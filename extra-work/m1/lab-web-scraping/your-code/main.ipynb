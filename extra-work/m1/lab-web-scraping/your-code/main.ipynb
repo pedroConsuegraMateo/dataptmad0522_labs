{
 "cells": [
  {
   "cell_type": "markdown",
   "metadata": {},
   "source": [
    "# Web Scraping Lab\n",
    "\n",
    "You will find in this notebook some scrapy exercises to practise your scraping skills.\n",
    "\n",
    "**Tips:**\n",
    "\n",
    "- Check the response status code for each request to ensure you have obtained the intended content.\n",
    "- Print the response text in each request to understand the kind of info you are getting and its format.\n",
    "- Check for patterns in the response text to extract the data/info requested in each question.\n",
    "- Visit the urls below and take a look at their source code through Chrome DevTools. You'll need to identify the html tags, special class names, etc used in the html content you are expected to extract.\n",
    "\n",
    "**Resources**:\n",
    "- [Requests library](http://docs.python-requests.org/en/master/#the-user-guide)\n",
    "- [Beautiful Soup Doc](https://www.crummy.com/software/BeautifulSoup/bs4/doc/)\n",
    "- [Urllib](https://docs.python.org/3/library/urllib.html#module-urllib)\n",
    "- [re lib](https://docs.python.org/3/library/re.html)\n",
    "- [lxml lib](https://lxml.de/)\n",
    "- [Scrapy](https://scrapy.org/)\n",
    "- [List of HTTP status codes](https://en.wikipedia.org/wiki/List_of_HTTP_status_codes)\n",
    "- [HTML basics](http://www.simplehtmlguide.com/cheatsheet.php)\n",
    "- [CSS basics](https://www.cssbasics.com/#page_start)"
   ]
  },
  {
   "cell_type": "markdown",
   "metadata": {},
   "source": [
    "#### Below are the libraries and modules you may need. `requests`,  `BeautifulSoup` and `pandas` are already imported for you. If you prefer to use additional libraries feel free to do it."
   ]
  },
  {
   "cell_type": "code",
   "execution_count": 2,
   "metadata": {},
   "outputs": [],
   "source": [
    "import requests\n",
    "import bs4 \n",
    "import pandas as pd"
   ]
  },
  {
   "cell_type": "markdown",
   "metadata": {},
   "source": [
    "#### Download, parse (using BeautifulSoup), and print the content from the Trending Developers page from GitHub:"
   ]
  },
  {
   "cell_type": "code",
   "execution_count": 13,
   "metadata": {},
   "outputs": [],
   "source": [
    "# This is the url you will scrape in this exercise\n",
    "url = 'https://github.com/trending/developers'"
   ]
  },
  {
   "cell_type": "code",
   "execution_count": 66,
   "metadata": {},
   "outputs": [
    {
     "data": {
      "text/plain": [
       "['Florian Rival',\n",
       " 'MichaIng',\n",
       " 'Ha Thach',\n",
       " 'Charles Kerr',\n",
       " 'Tom Moor',\n",
       " 'Adam Johnson',\n",
       " 'Jaco',\n",
       " 'Anders Jenbo',\n",
       " 'Dongdong Tian',\n",
       " 'Dotan Simha',\n",
       " 'Alex Gaynor',\n",
       " 'Maarten Grootendorst',\n",
       " 'Bjorn Lu',\n",
       " 'Raphaël',\n",
       " 'İnanç Gümüş',\n",
       " 'Thomas Lovén',\n",
       " 'Kyle Altendorf',\n",
       " 'Earle F. Philhower, III',\n",
       " 'Hadrien Croubois',\n",
       " 'Thomas Müller',\n",
       " 'Charles-Axel Dein',\n",
       " 'Matt Mueller',\n",
       " 'Jamie Kyle',\n",
       " 'Ben L. Titzer',\n",
       " 'Han Xiao']"
      ]
     },
     "execution_count": 66,
     "metadata": {},
     "output_type": "execute_result"
    }
   ],
   "source": [
    "# your code here\n",
    "r = requests.get(url)\n",
    "r = r.content\n",
    "parsed_html = bs4.BeautifulSoup(r, \"html.parser\") \n",
    "articles = parsed_html.find_all(\"h1\", {\"class\":\"h3 lh-condensed\"})\n",
    "\n",
    "parsed_articles = []\n",
    "for a in articles:\n",
    "    a = str(a)\n",
    "    a = bs4.BeautifulSoup(a, \"html.parser\")\n",
    "    list_a = a.find_all(\"a\")\n",
    "    for e in list_a:\n",
    "        parsed_articles.append(e.string.strip())\n",
    "    \n",
    "parsed_articles\n"
   ]
  },
  {
   "cell_type": "markdown",
   "metadata": {},
   "source": [
    "#### Display the names of the trending developers retrieved in the previous step.\n",
    "\n",
    "Your output should be a Python list of developer names. Each name should not contain any html tag.\n",
    "\n",
    "**Instructions:**\n",
    "\n",
    "1. Find out the html tag and class names used for the developer names. You can achieve this using Chrome DevTools.\n",
    "\n",
    "1. Use BeautifulSoup to extract all the html elements that contain the developer names.\n",
    "\n",
    "1. Use string manipulation techniques to replace whitespaces and linebreaks (i.e. `\\n`) in the *text* of each html element. Use a list to store the clean names.\n",
    "\n",
    "1. Print the list of names.\n",
    "\n",
    "Your output should look like below:\n",
    "\n",
    "```\n",
    "['trimstray (@trimstray)',\n",
    " 'joewalnes (JoeWalnes)',\n",
    " 'charlax (Charles-AxelDein)',\n",
    " 'ForrestKnight (ForrestKnight)',\n",
    " 'revery-ui (revery-ui)',\n",
    " 'alibaba (Alibaba)',\n",
    " 'Microsoft (Microsoft)',\n",
    " 'github (GitHub)',\n",
    " 'facebook (Facebook)',\n",
    " 'boazsegev (Bo)',\n",
    " 'google (Google)',\n",
    " 'cloudfetch',\n",
    " 'sindresorhus (SindreSorhus)',\n",
    " 'tensorflow',\n",
    " 'apache (TheApacheSoftwareFoundation)',\n",
    " 'DevonCrawford (DevonCrawford)',\n",
    " 'ARMmbed (ArmMbed)',\n",
    " 'vuejs (vuejs)',\n",
    " 'fastai (fast.ai)',\n",
    " 'QiShaoXuan (Qi)',\n",
    " 'joelparkerhenderson (JoelParkerHenderson)',\n",
    " 'torvalds (LinusTorvalds)',\n",
    " 'CyC2018',\n",
    " 'komeiji-satori (神楽坂覚々)',\n",
    " 'script-8']\n",
    " ```"
   ]
  },
  {
   "cell_type": "code",
   "execution_count": null,
   "metadata": {},
   "outputs": [],
   "source": [
    "# your code here\n"
   ]
  },
  {
   "cell_type": "markdown",
   "metadata": {},
   "source": [
    "#### Display the trending Python repositories in GitHub.\n",
    "\n",
    "The steps to solve this problem is similar to the previous one except that you need to find out the repository names instead of developer names."
   ]
  },
  {
   "cell_type": "code",
   "execution_count": 68,
   "metadata": {},
   "outputs": [],
   "source": [
    "# This is the url you will scrape in this exercise\n",
    "url = 'https://github.com/trending/python?since=daily'"
   ]
  },
  {
   "cell_type": "code",
   "execution_count": 73,
   "metadata": {},
   "outputs": [
    {
     "ename": "FeatureNotFound",
     "evalue": "Couldn't find a tree builder with the features you requested: parsed.html. Do you need to install a parser library?",
     "output_type": "error",
     "traceback": [
      "\u001b[1;31m---------------------------------------------------------------------------\u001b[0m",
      "\u001b[1;31mFeatureNotFound\u001b[0m                           Traceback (most recent call last)",
      "Input \u001b[1;32mIn [73]\u001b[0m, in \u001b[0;36m<cell line: 5>\u001b[1;34m()\u001b[0m\n\u001b[0;32m      2\u001b[0m r \u001b[38;5;241m=\u001b[39m requests\u001b[38;5;241m.\u001b[39mget(url)\n\u001b[0;32m      3\u001b[0m r \u001b[38;5;241m=\u001b[39m r\u001b[38;5;241m.\u001b[39mcontent\n\u001b[1;32m----> 5\u001b[0m parsed_html \u001b[38;5;241m=\u001b[39m \u001b[43mbs4\u001b[49m\u001b[38;5;241;43m.\u001b[39;49m\u001b[43mBeautifulSoup\u001b[49m\u001b[43m(\u001b[49m\u001b[43mr\u001b[49m\u001b[43m,\u001b[49m\u001b[43m \u001b[49m\u001b[38;5;124;43m\"\u001b[39;49m\u001b[38;5;124;43mparsed.html\u001b[39;49m\u001b[38;5;124;43m\"\u001b[39;49m\u001b[43m)\u001b[49m\n\u001b[0;32m      6\u001b[0m parsed_html\n",
      "File \u001b[1;32m~\\.conda\\envs\\m1_ih\\lib\\site-packages\\bs4\\__init__.py:248\u001b[0m, in \u001b[0;36mBeautifulSoup.__init__\u001b[1;34m(self, markup, features, builder, parse_only, from_encoding, exclude_encodings, element_classes, **kwargs)\u001b[0m\n\u001b[0;32m    246\u001b[0m     builder_class \u001b[38;5;241m=\u001b[39m builder_registry\u001b[38;5;241m.\u001b[39mlookup(\u001b[38;5;241m*\u001b[39mfeatures)\n\u001b[0;32m    247\u001b[0m     \u001b[38;5;28;01mif\u001b[39;00m builder_class \u001b[38;5;129;01mis\u001b[39;00m \u001b[38;5;28;01mNone\u001b[39;00m:\n\u001b[1;32m--> 248\u001b[0m         \u001b[38;5;28;01mraise\u001b[39;00m FeatureNotFound(\n\u001b[0;32m    249\u001b[0m             \u001b[38;5;124m\"\u001b[39m\u001b[38;5;124mCouldn\u001b[39m\u001b[38;5;124m'\u001b[39m\u001b[38;5;124mt find a tree builder with the features you \u001b[39m\u001b[38;5;124m\"\u001b[39m\n\u001b[0;32m    250\u001b[0m             \u001b[38;5;124m\"\u001b[39m\u001b[38;5;124mrequested: \u001b[39m\u001b[38;5;132;01m%s\u001b[39;00m\u001b[38;5;124m. Do you need to install a parser library?\u001b[39m\u001b[38;5;124m\"\u001b[39m\n\u001b[0;32m    251\u001b[0m             \u001b[38;5;241m%\u001b[39m \u001b[38;5;124m\"\u001b[39m\u001b[38;5;124m,\u001b[39m\u001b[38;5;124m\"\u001b[39m\u001b[38;5;241m.\u001b[39mjoin(features))\n\u001b[0;32m    253\u001b[0m \u001b[38;5;66;03m# At this point either we have a TreeBuilder instance in\u001b[39;00m\n\u001b[0;32m    254\u001b[0m \u001b[38;5;66;03m# builder, or we have a builder_class that we can instantiate\u001b[39;00m\n\u001b[0;32m    255\u001b[0m \u001b[38;5;66;03m# with the remaining **kwargs.\u001b[39;00m\n\u001b[0;32m    256\u001b[0m \u001b[38;5;28;01mif\u001b[39;00m builder \u001b[38;5;129;01mis\u001b[39;00m \u001b[38;5;28;01mNone\u001b[39;00m:\n",
      "\u001b[1;31mFeatureNotFound\u001b[0m: Couldn't find a tree builder with the features you requested: parsed.html. Do you need to install a parser library?"
     ]
    }
   ],
   "source": [
    "# your code here\n"
   ]
  },
  {
   "cell_type": "markdown",
   "metadata": {},
   "source": [
    "#### Display all the image links from Walt Disney wikipedia page."
   ]
  },
  {
   "cell_type": "code",
   "execution_count": 3,
   "metadata": {},
   "outputs": [],
   "source": [
    "# This is the url you will scrape in this exercise\n",
    "url = 'https://en.wikipedia.org/wiki/Walt_Disney'"
   ]
  },
  {
   "cell_type": "code",
   "execution_count": 4,
   "metadata": {},
   "outputs": [
    {
     "data": {
      "text/plain": [
       "['//upload.wikimedia.org/wikipedia/commons/thumb/d/df/Walt_Disney_1946.JPG/220px-Walt_Disney_1946.JPG',\n",
       " '//upload.wikimedia.org/wikipedia/commons/thumb/8/87/Walt_Disney_1942_signature.svg/150px-Walt_Disney_1942_signature.svg.png',\n",
       " '//upload.wikimedia.org/wikipedia/commons/thumb/c/c4/Walt_Disney_envelope_ca._1921.jpg/220px-Walt_Disney_envelope_ca._1921.jpg',\n",
       " '//upload.wikimedia.org/wikipedia/commons/thumb/0/0d/Trolley_Troubles_poster.jpg/170px-Trolley_Troubles_poster.jpg',\n",
       " '//upload.wikimedia.org/wikipedia/en/thumb/4/4e/Steamboat-willie.jpg/170px-Steamboat-willie.jpg',\n",
       " '//upload.wikimedia.org/wikipedia/commons/thumb/5/57/Walt_Disney_1935.jpg/170px-Walt_Disney_1935.jpg',\n",
       " '//upload.wikimedia.org/wikipedia/commons/thumb/c/cd/Walt_Disney_Snow_white_1937_trailer_screenshot_%2813%29.jpg/220px-Walt_Disney_Snow_white_1937_trailer_screenshot_%2813%29.jpg',\n",
       " '//upload.wikimedia.org/wikipedia/commons/thumb/1/15/Disney_drawing_goofy.jpg/170px-Disney_drawing_goofy.jpg',\n",
       " '//upload.wikimedia.org/wikipedia/commons/thumb/1/13/DisneySchiphol1951.jpg/220px-DisneySchiphol1951.jpg',\n",
       " '//upload.wikimedia.org/wikipedia/commons/thumb/8/8c/WaltDisneyplansDisneylandDec1954.jpg/220px-WaltDisneyplansDisneylandDec1954.jpg',\n",
       " '//upload.wikimedia.org/wikipedia/commons/thumb/f/ff/Walt_disney_portrait_right.jpg/170px-Walt_disney_portrait_right.jpg',\n",
       " '//upload.wikimedia.org/wikipedia/commons/thumb/1/1a/Walt_Disney_Grave.JPG/170px-Walt_Disney_Grave.JPG',\n",
       " '//upload.wikimedia.org/wikipedia/commons/thumb/2/2d/Roy_O._Disney_with_Company_at_Press_Conference.jpg/170px-Roy_O._Disney_with_Company_at_Press_Conference.jpg',\n",
       " '//upload.wikimedia.org/wikipedia/commons/thumb/b/b0/Disney_Oscar_1953_%28cropped%29.jpg/170px-Disney_Oscar_1953_%28cropped%29.jpg',\n",
       " '//upload.wikimedia.org/wikipedia/commons/thumb/6/6c/Disney1968.jpg/170px-Disney1968.jpg',\n",
       " '//upload.wikimedia.org/wikipedia/en/thumb/8/8a/OOjs_UI_icon_edit-ltr-progressive.svg/10px-OOjs_UI_icon_edit-ltr-progressive.svg.png',\n",
       " '//upload.wikimedia.org/wikipedia/en/thumb/8/8a/OOjs_UI_icon_edit-ltr-progressive.svg/10px-OOjs_UI_icon_edit-ltr-progressive.svg.png',\n",
       " '//upload.wikimedia.org/wikipedia/commons/thumb/e/e3/Disneyland_Resort_logo.svg/135px-Disneyland_Resort_logo.svg.png',\n",
       " '//upload.wikimedia.org/wikipedia/commons/thumb/d/da/Animation_disc.svg/20px-Animation_disc.svg.png',\n",
       " '//upload.wikimedia.org/wikipedia/en/thumb/6/69/P_vip.svg/19px-P_vip.svg.png',\n",
       " '//upload.wikimedia.org/wikipedia/commons/thumb/1/1a/Magic_Kingdom_castle.jpg/15px-Magic_Kingdom_castle.jpg',\n",
       " '//upload.wikimedia.org/wikipedia/en/thumb/e/e7/Video-x-generic.svg/19px-Video-x-generic.svg.png',\n",
       " '//upload.wikimedia.org/wikipedia/commons/thumb/a/a3/Flag_of_Los_Angeles_County%2C_California.svg/21px-Flag_of_Los_Angeles_County%2C_California.svg.png',\n",
       " '//upload.wikimedia.org/wikipedia/commons/thumb/8/8c/Blank_television_set.svg/21px-Blank_television_set.svg.png',\n",
       " '//upload.wikimedia.org/wikipedia/en/thumb/a/a4/Flag_of_the_United_States.svg/21px-Flag_of_the_United_States.svg.png',\n",
       " '//upload.wikimedia.org/wikipedia/en/thumb/4/4a/Commons-logo.svg/14px-Commons-logo.svg.png',\n",
       " '//upload.wikimedia.org/wikipedia/commons/thumb/f/fa/Wikiquote-logo.svg/16px-Wikiquote-logo.svg.png',\n",
       " '//upload.wikimedia.org/wikipedia/commons/thumb/f/ff/Wikidata-logo.svg/21px-Wikidata-logo.svg.png',\n",
       " '//upload.wikimedia.org/wikipedia/en/thumb/8/8a/OOjs_UI_icon_edit-ltr-progressive.svg/10px-OOjs_UI_icon_edit-ltr-progressive.svg.png']"
      ]
     },
     "execution_count": 4,
     "metadata": {},
     "output_type": "execute_result"
    }
   ],
   "source": [
    "# your code here\n",
    "r = requests.get(url)\n",
    "r = r.content\n",
    "\n",
    "parsed_html = bs4.BeautifulSoup(r, \"html.parser\")\n",
    "parsed_html\n",
    "\n",
    "img = parsed_html.find_all(\"img\")\n",
    "img = img[2: -3]\n",
    "\n",
    "images = [i[\"src\"] for i in img]\n",
    "\n",
    "images\n"
   ]
  },
  {
   "cell_type": "markdown",
   "metadata": {},
   "source": [
    "#### Retrieve an arbitary Wikipedia page of \"Python\" and create a list of links on that page."
   ]
  },
  {
   "cell_type": "code",
   "execution_count": 94,
   "metadata": {},
   "outputs": [],
   "source": [
    "# This is the url you will scrape in this exercise\n",
    "url ='https://en.wikipedia.org/wiki/Python' "
   ]
  },
  {
   "cell_type": "code",
   "execution_count": 95,
   "metadata": {},
   "outputs": [
    {
     "data": {
      "text/plain": [
       "<!DOCTYPE html>\n",
       "\n",
       "<html class=\"client-nojs\" dir=\"ltr\" lang=\"en\">\n",
       "<head>\n",
       "<meta charset=\"utf-8\"/>\n",
       "<title>Python - Wikipedia</title>\n",
       "<script>document.documentElement.className=\"client-js\";RLCONF={\"wgBreakFrames\":false,\"wgSeparatorTransformTable\":[\"\",\"\"],\"wgDigitTransformTable\":[\"\",\"\"],\"wgDefaultDateFormat\":\"dmy\",\"wgMonthNames\":[\"\",\"January\",\"February\",\"March\",\"April\",\"May\",\"June\",\"July\",\"August\",\"September\",\"October\",\"November\",\"December\"],\"wgRequestId\":\"4b8ce9a6-833c-4559-9359-f5699bcc0cab\",\"wgCSPNonce\":false,\"wgCanonicalNamespace\":\"\",\"wgCanonicalSpecialPageName\":false,\"wgNamespaceNumber\":0,\"wgPageName\":\"Python\",\"wgTitle\":\"Python\",\"wgCurRevisionId\":1087251762,\"wgRevisionId\":1087251762,\"wgArticleId\":46332325,\"wgIsArticle\":true,\"wgIsRedirect\":false,\"wgAction\":\"view\",\"wgUserName\":null,\"wgUserGroups\":[\"*\"],\"wgCategories\":[\"Disambiguation pages with short descriptions\",\"Short description is different from Wikidata\",\"All article disambiguation pages\",\"All disambiguation pages\",\"Animal common name disambiguation pages\",\"Disambiguation pages\",\"Human name disambiguation pages\",\"Disambiguation pages with given-name-holder lists\"],\n",
       "\"wgPageContentLanguage\":\"en\",\"wgPageContentModel\":\"wikitext\",\"wgRelevantPageName\":\"Python\",\"wgRelevantArticleId\":46332325,\"wgIsProbablyEditable\":true,\"wgRelevantPageIsProbablyEditable\":true,\"wgRestrictionEdit\":[],\"wgRestrictionMove\":[],\"wgFlaggedRevsParams\":{\"tags\":{\"status\":{\"levels\":1}}},\"wgVisualEditor\":{\"pageLanguageCode\":\"en\",\"pageLanguageDir\":\"ltr\",\"pageVariantFallbacks\":\"en\"},\"wgMFDisplayWikibaseDescriptions\":{\"search\":true,\"nearby\":true,\"watchlist\":true,\"tagline\":false},\"wgWMESchemaEditAttemptStepOversample\":false,\"wgWMEPageLength\":2000,\"wgNoticeProject\":\"wikipedia\",\"wgMediaViewerOnClick\":true,\"wgMediaViewerEnabledByDefault\":true,\"wgPopupsFlags\":10,\"wgULSCurrentAutonym\":\"English\",\"wgEditSubmitButtonLabelPublish\":true,\"wgCentralAuthMobileDomain\":false,\"wgULSPosition\":\"interlanguage\",\"wgULSisCompactLinksEnabled\":true,\"wgWikibaseItemId\":\"Q747452\",\"GEHomepageSuggestedEditsEnableTopics\":true,\"wgGETopicsMatchModeEnabled\":false,\"wgGEStructuredTaskRejectionReasonTextInputEnabled\":false\n",
       "};RLSTATE={\"ext.globalCssJs.user.styles\":\"ready\",\"site.styles\":\"ready\",\"user.styles\":\"ready\",\"ext.globalCssJs.user\":\"ready\",\"user\":\"ready\",\"user.options\":\"loading\",\"skins.vector.styles.legacy\":\"ready\",\"ext.visualEditor.desktopArticleTarget.noscript\":\"ready\",\"ext.wikimediaBadges\":\"ready\",\"ext.uls.interlanguage\":\"ready\",\"wikibase.client.init\":\"ready\"};RLPAGEMODULES=[\"site\",\"mediawiki.page.ready\",\"mediawiki.toc\",\"skins.vector.legacy.js\",\"mmv.head\",\"mmv.bootstrap.autostart\",\"ext.visualEditor.desktopArticleTarget.init\",\"ext.visualEditor.targetLoader\",\"ext.eventLogging\",\"ext.wikimediaEvents\",\"ext.navigationTiming\",\"ext.cx.eventlogging.campaigns\",\"ext.quicksurveys.init\",\"ext.centralNotice.geoIP\",\"ext.centralNotice.startUp\",\"ext.gadget.ReferenceTooltips\",\"ext.gadget.charinsert\",\"ext.gadget.extra-toolbar-buttons\",\"ext.gadget.refToolbar\",\"ext.gadget.switcher\",\"ext.centralauth.centralautologin\",\"ext.popups\",\"ext.uls.compactlinks\",\"ext.uls.interface\",\"ext.growthExperiments.SuggestedEditSession\"];</script>\n",
       "<script>(RLQ=window.RLQ||[]).push(function(){mw.loader.implement(\"user.options@12s5i\",function($,jQuery,require,module){mw.user.tokens.set({\"patrolToken\":\"+\\\\\",\"watchToken\":\"+\\\\\",\"csrfToken\":\"+\\\\\"});});});</script>\n",
       "<link href=\"/w/load.php?lang=en&amp;modules=ext.uls.interlanguage%7Cext.visualEditor.desktopArticleTarget.noscript%7Cext.wikimediaBadges%7Cskins.vector.styles.legacy%7Cwikibase.client.init&amp;only=styles&amp;skin=vector\" rel=\"stylesheet\"/>\n",
       "<script async=\"\" src=\"/w/load.php?lang=en&amp;modules=startup&amp;only=scripts&amp;raw=1&amp;skin=vector\"></script>\n",
       "<meta content=\"\" name=\"ResourceLoaderDynamicStyles\"/>\n",
       "<link href=\"/w/load.php?lang=en&amp;modules=site.styles&amp;only=styles&amp;skin=vector\" rel=\"stylesheet\"/>\n",
       "<meta content=\"MediaWiki 1.39.0-wmf.18\" name=\"generator\"/>\n",
       "<meta content=\"origin\" name=\"referrer\"/>\n",
       "<meta content=\"origin-when-crossorigin\" name=\"referrer\"/>\n",
       "<meta content=\"origin-when-cross-origin\" name=\"referrer\"/>\n",
       "<meta content=\"telephone=no\" name=\"format-detection\"/>\n",
       "<meta content=\"width=1000\" name=\"viewport\"/>\n",
       "<meta content=\"Python - Wikipedia\" property=\"og:title\"/>\n",
       "<meta content=\"website\" property=\"og:type\"/>\n",
       "<link href=\"//upload.wikimedia.org\" rel=\"preconnect\"/>\n",
       "<link href=\"//en.m.wikipedia.org/wiki/Python\" media=\"only screen and (max-width: 720px)\" rel=\"alternate\"/>\n",
       "<link href=\"/w/index.php?title=Python&amp;action=edit\" rel=\"alternate\" title=\"Edit this page\" type=\"application/x-wiki\"/>\n",
       "<link href=\"/static/apple-touch/wikipedia.png\" rel=\"apple-touch-icon\"/>\n",
       "<link href=\"/static/favicon/wikipedia.ico\" rel=\"shortcut icon\"/>\n",
       "<link href=\"/w/opensearch_desc.php\" rel=\"search\" title=\"Wikipedia (en)\" type=\"application/opensearchdescription+xml\"/>\n",
       "<link href=\"//en.wikipedia.org/w/api.php?action=rsd\" rel=\"EditURI\" type=\"application/rsd+xml\"/>\n",
       "<link href=\"https://creativecommons.org/licenses/by-sa/3.0/\" rel=\"license\"/>\n",
       "<link href=\"https://en.wikipedia.org/wiki/Python\" rel=\"canonical\"/>\n",
       "<link href=\"//meta.wikimedia.org\" rel=\"dns-prefetch\"/>\n",
       "<link href=\"//login.wikimedia.org\" rel=\"dns-prefetch\"/>\n",
       "</head>\n",
       "<body class=\"mediawiki ltr sitedir-ltr mw-hide-empty-elt ns-0 ns-subject mw-editable page-Python rootpage-Python skin-vector action-view skin-vector-legacy\"><div class=\"noprint\" id=\"mw-page-base\"></div>\n",
       "<div class=\"noprint\" id=\"mw-head-base\"></div>\n",
       "<div class=\"mw-body\" id=\"content\" role=\"main\">\n",
       "<a id=\"top\"></a>\n",
       "<div id=\"siteNotice\"><!-- CentralNotice --></div>\n",
       "<div class=\"mw-indicators\">\n",
       "</div>\n",
       "<h1 class=\"firstHeading mw-first-heading\" id=\"firstHeading\">Python</h1>\n",
       "<div class=\"vector-body\" id=\"bodyContent\">\n",
       "<div class=\"noprint\" id=\"siteSub\">From Wikipedia, the free encyclopedia</div>\n",
       "<div id=\"contentSub\"></div>\n",
       "<div id=\"contentSub2\"></div>\n",
       "<div id=\"jump-to-nav\"></div>\n",
       "<a class=\"mw-jump-link\" href=\"#mw-head\">Jump to navigation</a>\n",
       "<a class=\"mw-jump-link\" href=\"#searchInput\">Jump to search</a>\n",
       "<div class=\"mw-body-content mw-content-ltr\" dir=\"ltr\" id=\"mw-content-text\" lang=\"en\"><div class=\"mw-parser-output\"><table class=\"mbox-small plainlinks sistersitebox\" role=\"presentation\" style=\"background-color:#f9f9f9;border:1px solid #aaa;color:#000\">\n",
       "<tbody><tr>\n",
       "<td class=\"mbox-image\"><img alt=\"\" class=\"noviewer\" data-file-height=\"512\" data-file-width=\"512\" decoding=\"async\" height=\"40\" src=\"//upload.wikimedia.org/wikipedia/commons/thumb/9/99/Wiktionary-logo-en-v2.svg/40px-Wiktionary-logo-en-v2.svg.png\" srcset=\"//upload.wikimedia.org/wikipedia/commons/thumb/9/99/Wiktionary-logo-en-v2.svg/60px-Wiktionary-logo-en-v2.svg.png 1.5x, //upload.wikimedia.org/wikipedia/commons/thumb/9/99/Wiktionary-logo-en-v2.svg/80px-Wiktionary-logo-en-v2.svg.png 2x\" width=\"40\"/></td>\n",
       "<td class=\"mbox-text plainlist\">Look up <i><b><a class=\"extiw\" href=\"https://en.wiktionary.org/wiki/Python\" title=\"wiktionary:Python\">Python</a></b></i> or <i><b><a class=\"extiw\" href=\"https://en.wiktionary.org/wiki/python\" title=\"wiktionary:python\">python</a></b></i> in Wiktionary, the free dictionary.</td></tr>\n",
       "</tbody></table>\n",
       "<p><b>Python</b> may refer to:\n",
       "</p>\n",
       "<style data-mw-deduplicate=\"TemplateStyles:r1044870489\">@media all and (max-width:720px){body.skin-minerva .mw-parser-output .tocright{display:none}.mw-parser-output .tocright{width:100%!important}}@media all and (min-width:720px){.mw-parser-output .tocright{float:right;clear:right;width:auto;margin:0 0 0.5em 1em}.mw-parser-output .tocright-clear-left{clear:left}.mw-parser-output .tocright-clear-both{clear:both}.mw-parser-output .tocright-clear-none{clear:none}}</style><div class=\"tocright\"><div aria-labelledby=\"mw-toc-heading\" class=\"toc\" id=\"toc\" role=\"navigation\"><input class=\"toctogglecheckbox\" id=\"toctogglecheckbox\" role=\"button\" style=\"display:none\" type=\"checkbox\"/><div class=\"toctitle\" dir=\"ltr\" lang=\"en\"><h2 id=\"mw-toc-heading\">Contents</h2><span class=\"toctogglespan\"><label class=\"toctogglelabel\" for=\"toctogglecheckbox\"></label></span></div>\n",
       "<ul>\n",
       "<li class=\"toclevel-1 tocsection-1\"><a href=\"#Snakes\"><span class=\"tocnumber\">1</span> <span class=\"toctext\">Snakes</span></a></li>\n",
       "<li class=\"toclevel-1 tocsection-2\"><a href=\"#Computing\"><span class=\"tocnumber\">2</span> <span class=\"toctext\">Computing</span></a></li>\n",
       "<li class=\"toclevel-1 tocsection-3\"><a href=\"#People\"><span class=\"tocnumber\">3</span> <span class=\"toctext\">People</span></a></li>\n",
       "<li class=\"toclevel-1 tocsection-4\"><a href=\"#Roller_coasters\"><span class=\"tocnumber\">4</span> <span class=\"toctext\">Roller coasters</span></a></li>\n",
       "<li class=\"toclevel-1 tocsection-5\"><a href=\"#Vehicles\"><span class=\"tocnumber\">5</span> <span class=\"toctext\">Vehicles</span></a></li>\n",
       "<li class=\"toclevel-1 tocsection-6\"><a href=\"#Weaponry\"><span class=\"tocnumber\">6</span> <span class=\"toctext\">Weaponry</span></a></li>\n",
       "<li class=\"toclevel-1 tocsection-7\"><a href=\"#Other_uses\"><span class=\"tocnumber\">7</span> <span class=\"toctext\">Other uses</span></a></li>\n",
       "<li class=\"toclevel-1 tocsection-8\"><a href=\"#See_also\"><span class=\"tocnumber\">8</span> <span class=\"toctext\">See also</span></a></li>\n",
       "</ul>\n",
       "</div>\n",
       "</div>\n",
       "<h2><span class=\"mw-headline\" id=\"Snakes\">Snakes</span><span class=\"mw-editsection\"><span class=\"mw-editsection-bracket\">[</span><a href=\"/w/index.php?title=Python&amp;action=edit&amp;section=1\" title=\"Edit section: Snakes\">edit</a><span class=\"mw-editsection-bracket\">]</span></span></h2>\n",
       "<ul><li><a href=\"/wiki/Pythonidae\" title=\"Pythonidae\">Pythonidae</a>, a family of nonvenomous snakes found in Africa, Asia, and Australia\n",
       "<ul><li><a href=\"/wiki/Python_(genus)\" title=\"Python (genus)\"><i>Python</i> (genus)</a>, a genus of nonvenomous Pythonidae found in Africa and Asia</li></ul></li>\n",
       "<li><a href=\"/wiki/Python_(mythology)\" title=\"Python (mythology)\">Python (mythology)</a>, a mythical serpent</li></ul>\n",
       "<h2><span class=\"mw-headline\" id=\"Computing\">Computing</span><span class=\"mw-editsection\"><span class=\"mw-editsection-bracket\">[</span><a href=\"/w/index.php?title=Python&amp;action=edit&amp;section=2\" title=\"Edit section: Computing\">edit</a><span class=\"mw-editsection-bracket\">]</span></span></h2>\n",
       "<ul><li><a href=\"/wiki/Python_(programming_language)\" title=\"Python (programming language)\">Python (programming language)</a></li>\n",
       "<li>Python, a native code compiler for <a href=\"/wiki/CMU_Common_Lisp\" title=\"CMU Common Lisp\">CMU Common Lisp</a></li>\n",
       "<li>Python, the internal project name for the <a href=\"/wiki/PERQ#PERQ_3\" title=\"PERQ\">PERQ 3</a> computer workstation</li></ul>\n",
       "<h2><span class=\"mw-headline\" id=\"People\">People</span><span class=\"mw-editsection\"><span class=\"mw-editsection-bracket\">[</span><a href=\"/w/index.php?title=Python&amp;action=edit&amp;section=3\" title=\"Edit section: People\">edit</a><span class=\"mw-editsection-bracket\">]</span></span></h2>\n",
       "<ul><li><a href=\"/wiki/Python_of_Aenus\" title=\"Python of Aenus\">Python of Aenus</a> (4th-century BCE), student of Plato</li>\n",
       "<li><a href=\"/wiki/Python_(painter)\" title=\"Python (painter)\">Python (painter)</a>, (ca. 360–320 BCE) vase painter in Poseidonia</li>\n",
       "<li><a href=\"/wiki/Python_of_Byzantium\" title=\"Python of Byzantium\">Python of Byzantium</a>, orator, diplomat of Philip II of Macedon</li>\n",
       "<li><a href=\"/wiki/Python_of_Catana\" title=\"Python of Catana\">Python of Catana</a>, poet who accompanied Alexander the Great</li>\n",
       "<li><a href=\"/wiki/Python_Anghelo\" title=\"Python Anghelo\">Python Anghelo</a> (1954–2014) Romanian graphic artist</li></ul>\n",
       "<h2><span class=\"mw-headline\" id=\"Roller_coasters\">Roller coasters</span><span class=\"mw-editsection\"><span class=\"mw-editsection-bracket\">[</span><a href=\"/w/index.php?title=Python&amp;action=edit&amp;section=4\" title=\"Edit section: Roller coasters\">edit</a><span class=\"mw-editsection-bracket\">]</span></span></h2>\n",
       "<ul><li><a href=\"/wiki/Python_(Efteling)\" title=\"Python (Efteling)\">Python (Efteling)</a>, a roller coaster in the Netherlands</li>\n",
       "<li><a href=\"/wiki/Python_(Busch_Gardens_Tampa_Bay)\" title=\"Python (Busch Gardens Tampa Bay)\">Python (Busch Gardens Tampa Bay)</a>, a defunct roller coaster</li>\n",
       "<li><a href=\"/wiki/Python_(Coney_Island,_Cincinnati,_Ohio)\" title=\"Python (Coney Island, Cincinnati, Ohio)\">Python (Coney Island, Cincinnati, Ohio)</a>, a steel roller coaster</li></ul>\n",
       "<h2><span class=\"mw-headline\" id=\"Vehicles\">Vehicles</span><span class=\"mw-editsection\"><span class=\"mw-editsection-bracket\">[</span><a href=\"/w/index.php?title=Python&amp;action=edit&amp;section=5\" title=\"Edit section: Vehicles\">edit</a><span class=\"mw-editsection-bracket\">]</span></span></h2>\n",
       "<ul><li><a href=\"/wiki/Python_(automobile_maker)\" title=\"Python (automobile maker)\">Python (automobile maker)</a>, an Australian car company</li>\n",
       "<li><a href=\"/wiki/Python_(Ford_prototype)\" title=\"Python (Ford prototype)\">Python (Ford prototype)</a>, a Ford prototype sports car</li></ul>\n",
       "<h2><span class=\"mw-headline\" id=\"Weaponry\">Weaponry</span><span class=\"mw-editsection\"><span class=\"mw-editsection-bracket\">[</span><a href=\"/w/index.php?title=Python&amp;action=edit&amp;section=6\" title=\"Edit section: Weaponry\">edit</a><span class=\"mw-editsection-bracket\">]</span></span></h2>\n",
       "<ul><li><a href=\"/wiki/Python_(missile)\" title=\"Python (missile)\">Python (missile)</a>, a series of Israeli air-to-air missiles</li>\n",
       "<li><a href=\"/wiki/Python_(nuclear_primary)\" title=\"Python (nuclear primary)\">Python (nuclear primary)</a>, a gas-boosted fission primary used in thermonuclear weapons</li>\n",
       "<li><a href=\"/wiki/Colt_Python\" title=\"Colt Python\">Colt Python</a>, a revolver</li></ul>\n",
       "<h2><span class=\"mw-headline\" id=\"Other_uses\">Other uses</span><span class=\"mw-editsection\"><span class=\"mw-editsection-bracket\">[</span><a href=\"/w/index.php?title=Python&amp;action=edit&amp;section=7\" title=\"Edit section: Other uses\">edit</a><span class=\"mw-editsection-bracket\">]</span></span></h2>\n",
       "<ul><li><a href=\"/wiki/PYTHON\" title=\"PYTHON\">PYTHON</a>, a British nuclear war contingency plan</li>\n",
       "<li><a href=\"/wiki/Python_(film)\" title=\"Python (film)\"><i>Python</i> (film)</a>, a 2000 horror film by Richard Clabaugh</li>\n",
       "<li><a href=\"/wiki/Monty_Python\" title=\"Monty Python\">Monty Python</a> or the Pythons, a British comedy group\n",
       "<ul><li><a href=\"/wiki/Python_(Monty)_Pictures\" title=\"Python (Monty) Pictures\">Python (Monty) Pictures</a>, a company owned by the troupe's surviving members</li></ul></li>\n",
       "<li><i>Python</i>, a work written by philosopher <a href=\"/wiki/Timon_of_Phlius\" title=\"Timon of Phlius\">Timon of Phlius</a></li></ul>\n",
       "<h2><span class=\"mw-headline\" id=\"See_also\">See also</span><span class=\"mw-editsection\"><span class=\"mw-editsection-bracket\">[</span><a href=\"/w/index.php?title=Python&amp;action=edit&amp;section=8\" title=\"Edit section: See also\">edit</a><span class=\"mw-editsection-bracket\">]</span></span></h2>\n",
       "<ul><li><a href=\"/wiki/Cython\" title=\"Cython\">Cython</a>, a programming language superset of Python</li>\n",
       "<li><i><a href=\"/wiki/Pyton\" title=\"Pyton\">Pyton</a></i>, a Norwegian magazine</li>\n",
       "<li><a href=\"/wiki/Pithon\" title=\"Pithon\">Pithon</a></li></ul>\n",
       "<div class=\"shortdescription nomobile noexcerpt noprint searchaux\" style=\"display:none\">Topics referred to by the same term</div>\n",
       "<style data-mw-deduplicate=\"TemplateStyles:r1086713197\">.mw-parser-output .dmbox{display:flex;align-items:center;clear:both;margin:0.9em 1em;border-top:1px solid #ccc;border-bottom:1px solid #ccc;padding:0.25em 0.35em;font-style:italic}.mw-parser-output .dmbox>*{flex-shrink:0;margin:0 0.25em}.mw-parser-output .dmbox-body{flex-grow:1;flex-shrink:1;padding:0.1em 0}</style>\n",
       "<div class=\"metadata plainlinks dmbox dmbox-disambig\" id=\"disambigbox\" role=\"note\"><a class=\"image\" href=\"/wiki/File:Disambig_gray.svg\"><img alt=\"Disambiguation icon\" data-file-height=\"168\" data-file-width=\"220\" decoding=\"async\" height=\"23\" src=\"//upload.wikimedia.org/wikipedia/en/thumb/5/5f/Disambig_gray.svg/30px-Disambig_gray.svg.png\" srcset=\"//upload.wikimedia.org/wikipedia/en/thumb/5/5f/Disambig_gray.svg/45px-Disambig_gray.svg.png 1.5x, //upload.wikimedia.org/wikipedia/en/thumb/5/5f/Disambig_gray.svg/60px-Disambig_gray.svg.png 2x\" width=\"30\"/></a><div class=\"dmbox-body\"> This <a href=\"/wiki/Help:Disambiguation\" title=\"Help:Disambiguation\">disambiguation</a> page lists  articles associated with the title <b>Python</b>.<br/><small>If an <a class=\"external text\" href=\"https://en.wikipedia.org/w/index.php?title=Special:WhatLinksHere/Python&amp;namespace=0\">internal link</a> led you here, you may wish to change the link to point directly to the intended article.</small> </div>\n",
       "</div>\n",
       "<!-- \n",
       "NewPP limit report\n",
       "Parsed by mw1381\n",
       "Cached time: 20220624081806\n",
       "Cache expiry: 1814400\n",
       "Reduced expiry: false\n",
       "Complications: []\n",
       "CPU time usage: 0.150 seconds\n",
       "Real time usage: 0.189 seconds\n",
       "Preprocessor visited node count: 1330/1000000\n",
       "Post‐expand include size: 6487/2097152 bytes\n",
       "Template argument size: 1380/2097152 bytes\n",
       "Highest expansion depth: 13/100\n",
       "Expensive parser function count: 1/500\n",
       "Unstrip recursion depth: 0/20\n",
       "Unstrip post‐expand size: 931/5000000 bytes\n",
       "Lua time usage: 0.034/10.000 seconds\n",
       "Lua memory usage: 1424844/52428800 bytes\n",
       "Number of Wikibase entities loaded: 0/400\n",
       "-->\n",
       "<!--\n",
       "Transclusion expansion time report (%,ms,calls,template)\n",
       "100.00%  154.123      1 -total\n",
       " 73.75%  113.660      1 Template:Disambiguation\n",
       " 31.25%   48.165      1 Template:Dmbox\n",
       " 26.04%   40.139      4 Template:Main_other\n",
       " 22.79%   35.126      1 Template:Disambiguation_page_short_description\n",
       " 21.51%   33.149      1 Template:Short_description\n",
       " 18.38%   28.330      1 Template:Wiktionary\n",
       " 16.74%   25.805      1 Template:Sister_project\n",
       " 13.27%   20.455      1 Template:Side_box\n",
       " 10.99%   16.944      1 Template:Category_handler\n",
       "-->\n",
       "<!-- Saved in parser cache with key enwiki:pcache:idhash:46332325-0!canonical and timestamp 20220624081806 and revision id 1087251762.\n",
       " -->\n",
       "</div><noscript><img alt=\"\" height=\"1\" src=\"//en.wikipedia.org/wiki/Special:CentralAutoLogin/start?type=1x1\" style=\"border: none; position: absolute;\" title=\"\" width=\"1\"/></noscript>\n",
       "<div class=\"printfooter\">Retrieved from \"<a dir=\"ltr\" href=\"https://en.wikipedia.org/w/index.php?title=Python&amp;oldid=1087251762\">https://en.wikipedia.org/w/index.php?title=Python&amp;oldid=1087251762</a>\"</div></div>\n",
       "<div class=\"catlinks\" data-mw=\"interface\" id=\"catlinks\"><div class=\"mw-normal-catlinks\" id=\"mw-normal-catlinks\"><a href=\"/wiki/Help:Category\" title=\"Help:Category\">Categories</a>: <ul><li><a href=\"/wiki/Category:Disambiguation_pages\" title=\"Category:Disambiguation pages\">Disambiguation pages</a></li><li><a href=\"/wiki/Category:Human_name_disambiguation_pages\" title=\"Category:Human name disambiguation pages\">Human name disambiguation pages</a></li><li><a href=\"/wiki/Category:Disambiguation_pages_with_given-name-holder_lists\" title=\"Category:Disambiguation pages with given-name-holder lists\">Disambiguation pages with given-name-holder lists</a></li></ul></div><div class=\"mw-hidden-catlinks mw-hidden-cats-hidden\" id=\"mw-hidden-catlinks\">Hidden categories: <ul><li><a href=\"/wiki/Category:Disambiguation_pages_with_short_descriptions\" title=\"Category:Disambiguation pages with short descriptions\">Disambiguation pages with short descriptions</a></li><li><a href=\"/wiki/Category:Short_description_is_different_from_Wikidata\" title=\"Category:Short description is different from Wikidata\">Short description is different from Wikidata</a></li><li><a href=\"/wiki/Category:All_article_disambiguation_pages\" title=\"Category:All article disambiguation pages\">All article disambiguation pages</a></li><li><a href=\"/wiki/Category:All_disambiguation_pages\" title=\"Category:All disambiguation pages\">All disambiguation pages</a></li><li><a href=\"/wiki/Category:Animal_common_name_disambiguation_pages\" title=\"Category:Animal common name disambiguation pages\">Animal common name disambiguation pages</a></li></ul></div></div>\n",
       "</div>\n",
       "</div>\n",
       "<div id=\"mw-navigation\">\n",
       "<h2>Navigation menu</h2>\n",
       "<div id=\"mw-head\">\n",
       "<nav aria-labelledby=\"p-personal-label\" class=\"mw-portlet mw-portlet-personal vector-user-menu-legacy vector-menu\" id=\"p-personal\" role=\"navigation\">\n",
       "<h3 class=\"vector-menu-heading\" id=\"p-personal-label\">\n",
       "<span class=\"vector-menu-heading-label\">Personal tools</span>\n",
       "</h3>\n",
       "<div class=\"vector-menu-content\">\n",
       "<ul class=\"vector-menu-content-list\"><li class=\"mw-list-item\" id=\"pt-anonuserpage\"><span title=\"The user page for the IP address you are editing as\">Not logged in</span></li><li class=\"mw-list-item\" id=\"pt-anontalk\"><a accesskey=\"n\" href=\"/wiki/Special:MyTalk\" title=\"Discussion about edits from this IP address [n]\"><span>Talk</span></a></li><li class=\"mw-list-item\" id=\"pt-anoncontribs\"><a accesskey=\"y\" href=\"/wiki/Special:MyContributions\" title=\"A list of edits made from this IP address [y]\"><span>Contributions</span></a></li><li class=\"mw-list-item\" id=\"pt-createaccount\"><a href=\"/w/index.php?title=Special:CreateAccount&amp;returnto=Python\" title=\"You are encouraged to create an account and log in; however, it is not mandatory\"><span>Create account</span></a></li><li class=\"mw-list-item\" id=\"pt-login\"><a accesskey=\"o\" href=\"/w/index.php?title=Special:UserLogin&amp;returnto=Python\" title=\"You're encouraged to log in; however, it's not mandatory. [o]\"><span>Log in</span></a></li></ul>\n",
       "</div>\n",
       "</nav>\n",
       "<div id=\"left-navigation\">\n",
       "<nav aria-labelledby=\"p-namespaces-label\" class=\"mw-portlet mw-portlet-namespaces vector-menu vector-menu-tabs vector-menu-tabs-legacy\" id=\"p-namespaces\" role=\"navigation\">\n",
       "<h3 class=\"vector-menu-heading\" id=\"p-namespaces-label\">\n",
       "<span class=\"vector-menu-heading-label\">Namespaces</span>\n",
       "</h3>\n",
       "<div class=\"vector-menu-content\">\n",
       "<ul class=\"vector-menu-content-list\"><li class=\"selected mw-list-item\" id=\"ca-nstab-main\"><a accesskey=\"c\" href=\"/wiki/Python\" title=\"View the content page [c]\"><span>Article</span></a></li><li class=\"mw-list-item\" id=\"ca-talk\"><a accesskey=\"t\" href=\"/wiki/Talk:Python\" rel=\"discussion\" title=\"Discuss improvements to the content page [t]\"><span>Talk</span></a></li></ul>\n",
       "</div>\n",
       "</nav>\n",
       "<nav aria-labelledby=\"p-variants-label\" class=\"mw-portlet mw-portlet-variants emptyPortlet vector-menu-dropdown-noicon vector-menu vector-menu-dropdown\" id=\"p-variants\" role=\"navigation\">\n",
       "<input aria-haspopup=\"true\" aria-labelledby=\"p-variants-label\" class=\"vector-menu-checkbox\" data-event-name=\"ui.dropdown-p-variants\" id=\"p-variants-checkbox\" role=\"button\" type=\"checkbox\"/>\n",
       "<label aria-label=\"Change language variant\" class=\"vector-menu-heading\" id=\"p-variants-label\">\n",
       "<span class=\"vector-menu-heading-label\">English</span>\n",
       "</label>\n",
       "<div class=\"vector-menu-content\">\n",
       "<ul class=\"vector-menu-content-list\"></ul>\n",
       "</div>\n",
       "</nav>\n",
       "</div>\n",
       "<div id=\"right-navigation\">\n",
       "<nav aria-labelledby=\"p-views-label\" class=\"mw-portlet mw-portlet-views vector-menu vector-menu-tabs vector-menu-tabs-legacy\" id=\"p-views\" role=\"navigation\">\n",
       "<h3 class=\"vector-menu-heading\" id=\"p-views-label\">\n",
       "<span class=\"vector-menu-heading-label\">Views</span>\n",
       "</h3>\n",
       "<div class=\"vector-menu-content\">\n",
       "<ul class=\"vector-menu-content-list\"><li class=\"selected mw-list-item\" id=\"ca-view\"><a href=\"/wiki/Python\"><span>Read</span></a></li><li class=\"mw-list-item\" id=\"ca-edit\"><a accesskey=\"e\" href=\"/w/index.php?title=Python&amp;action=edit\" title=\"Edit this page [e]\"><span>Edit</span></a></li><li class=\"mw-list-item\" id=\"ca-history\"><a accesskey=\"h\" href=\"/w/index.php?title=Python&amp;action=history\" title=\"Past revisions of this page [h]\"><span>View history</span></a></li></ul>\n",
       "</div>\n",
       "</nav>\n",
       "<nav aria-labelledby=\"p-cactions-label\" class=\"mw-portlet mw-portlet-cactions emptyPortlet vector-menu-dropdown-noicon vector-menu vector-menu-dropdown\" id=\"p-cactions\" role=\"navigation\" title=\"More options\">\n",
       "<input aria-haspopup=\"true\" aria-labelledby=\"p-cactions-label\" class=\"vector-menu-checkbox\" data-event-name=\"ui.dropdown-p-cactions\" id=\"p-cactions-checkbox\" role=\"button\" type=\"checkbox\"/>\n",
       "<label class=\"vector-menu-heading\" id=\"p-cactions-label\">\n",
       "<span class=\"vector-menu-heading-label\">More</span>\n",
       "</label>\n",
       "<div class=\"vector-menu-content\">\n",
       "<ul class=\"vector-menu-content-list\"></ul>\n",
       "</div>\n",
       "</nav>\n",
       "<div class=\"vector-search-box-vue vector-search-box-show-thumbnail vector-search-box-auto-expand-width vector-search-box\" id=\"p-search\" role=\"search\">\n",
       "<div>\n",
       "<h3>\n",
       "<label for=\"searchInput\">Search</label>\n",
       "</h3>\n",
       "<form action=\"/w/index.php\" class=\"vector-search-box-form\" id=\"searchform\">\n",
       "<div class=\"vector-search-box-inner\" data-search-loc=\"header-navigation\" id=\"simpleSearch\">\n",
       "<input accesskey=\"f\" aria-label=\"Search Wikipedia\" autocapitalize=\"sentences\" class=\"vector-search-box-input\" id=\"searchInput\" name=\"search\" placeholder=\"Search Wikipedia\" title=\"Search Wikipedia [f]\" type=\"search\"/>\n",
       "<input name=\"title\" type=\"hidden\" value=\"Special:Search\"/>\n",
       "<input class=\"searchButton mw-fallbackSearchButton\" id=\"mw-searchButton\" name=\"fulltext\" title=\"Search Wikipedia for this text\" type=\"submit\" value=\"Search\"/>\n",
       "<input class=\"searchButton\" id=\"searchButton\" name=\"go\" title=\"Go to a page with this exact name if it exists\" type=\"submit\" value=\"Go\"/>\n",
       "</div>\n",
       "</form>\n",
       "</div>\n",
       "</div>\n",
       "</div>\n",
       "</div>\n",
       "<div id=\"mw-panel\">\n",
       "<div id=\"p-logo\" role=\"banner\">\n",
       "<a class=\"mw-wiki-logo\" href=\"/wiki/Main_Page\" title=\"Visit the main page\"></a>\n",
       "</div>\n",
       "<nav aria-labelledby=\"p-navigation-label\" class=\"mw-portlet mw-portlet-navigation vector-menu vector-menu-portal portal\" id=\"p-navigation\" role=\"navigation\">\n",
       "<h3 class=\"vector-menu-heading\" id=\"p-navigation-label\">\n",
       "<span class=\"vector-menu-heading-label\">Navigation</span>\n",
       "</h3>\n",
       "<div class=\"vector-menu-content\">\n",
       "<ul class=\"vector-menu-content-list\"><li class=\"mw-list-item\" id=\"n-mainpage-description\"><a accesskey=\"z\" href=\"/wiki/Main_Page\" title=\"Visit the main page [z]\"><span>Main page</span></a></li><li class=\"mw-list-item\" id=\"n-contents\"><a href=\"/wiki/Wikipedia:Contents\" title=\"Guides to browsing Wikipedia\"><span>Contents</span></a></li><li class=\"mw-list-item\" id=\"n-currentevents\"><a href=\"/wiki/Portal:Current_events\" title=\"Articles related to current events\"><span>Current events</span></a></li><li class=\"mw-list-item\" id=\"n-randompage\"><a accesskey=\"x\" href=\"/wiki/Special:Random\" title=\"Visit a randomly selected article [x]\"><span>Random article</span></a></li><li class=\"mw-list-item\" id=\"n-aboutsite\"><a href=\"/wiki/Wikipedia:About\" title=\"Learn about Wikipedia and how it works\"><span>About Wikipedia</span></a></li><li class=\"mw-list-item\" id=\"n-contactpage\"><a href=\"//en.wikipedia.org/wiki/Wikipedia:Contact_us\" title=\"How to contact Wikipedia\"><span>Contact us</span></a></li><li class=\"mw-list-item\" id=\"n-sitesupport\"><a href=\"https://donate.wikimedia.org/wiki/Special:FundraiserRedirector?utm_source=donate&amp;utm_medium=sidebar&amp;utm_campaign=C13_en.wikipedia.org&amp;uselang=en\" title=\"Support us by donating to the Wikimedia Foundation\"><span>Donate</span></a></li></ul>\n",
       "</div>\n",
       "</nav>\n",
       "<nav aria-labelledby=\"p-interaction-label\" class=\"mw-portlet mw-portlet-interaction vector-menu vector-menu-portal portal\" id=\"p-interaction\" role=\"navigation\">\n",
       "<h3 class=\"vector-menu-heading\" id=\"p-interaction-label\">\n",
       "<span class=\"vector-menu-heading-label\">Contribute</span>\n",
       "</h3>\n",
       "<div class=\"vector-menu-content\">\n",
       "<ul class=\"vector-menu-content-list\"><li class=\"mw-list-item\" id=\"n-help\"><a href=\"/wiki/Help:Contents\" title=\"Guidance on how to use and edit Wikipedia\"><span>Help</span></a></li><li class=\"mw-list-item\" id=\"n-introduction\"><a href=\"/wiki/Help:Introduction\" title=\"Learn how to edit Wikipedia\"><span>Learn to edit</span></a></li><li class=\"mw-list-item\" id=\"n-portal\"><a href=\"/wiki/Wikipedia:Community_portal\" title=\"The hub for editors\"><span>Community portal</span></a></li><li class=\"mw-list-item\" id=\"n-recentchanges\"><a accesskey=\"r\" href=\"/wiki/Special:RecentChanges\" title=\"A list of recent changes to Wikipedia [r]\"><span>Recent changes</span></a></li><li class=\"mw-list-item\" id=\"n-upload\"><a href=\"/wiki/Wikipedia:File_Upload_Wizard\" title=\"Add images or other media for use on Wikipedia\"><span>Upload file</span></a></li></ul>\n",
       "</div>\n",
       "</nav>\n",
       "<nav aria-labelledby=\"p-tb-label\" class=\"mw-portlet mw-portlet-tb vector-menu vector-menu-portal portal\" id=\"p-tb\" role=\"navigation\">\n",
       "<h3 class=\"vector-menu-heading\" id=\"p-tb-label\">\n",
       "<span class=\"vector-menu-heading-label\">Tools</span>\n",
       "</h3>\n",
       "<div class=\"vector-menu-content\">\n",
       "<ul class=\"vector-menu-content-list\"><li class=\"mw-list-item\" id=\"t-whatlinkshere\"><a accesskey=\"j\" href=\"/wiki/Special:WhatLinksHere/Python\" title=\"List of all English Wikipedia pages containing links to this page [j]\"><span>What links here</span></a></li><li class=\"mw-list-item\" id=\"t-recentchangeslinked\"><a accesskey=\"k\" href=\"/wiki/Special:RecentChangesLinked/Python\" rel=\"nofollow\" title=\"Recent changes in pages linked from this page [k]\"><span>Related changes</span></a></li><li class=\"mw-list-item\" id=\"t-upload\"><a accesskey=\"u\" href=\"/wiki/Wikipedia:File_Upload_Wizard\" title=\"Upload files [u]\"><span>Upload file</span></a></li><li class=\"mw-list-item\" id=\"t-specialpages\"><a accesskey=\"q\" href=\"/wiki/Special:SpecialPages\" title=\"A list of all special pages [q]\"><span>Special pages</span></a></li><li class=\"mw-list-item\" id=\"t-permalink\"><a href=\"/w/index.php?title=Python&amp;oldid=1087251762\" title=\"Permanent link to this revision of this page\"><span>Permanent link</span></a></li><li class=\"mw-list-item\" id=\"t-info\"><a href=\"/w/index.php?title=Python&amp;action=info\" title=\"More information about this page\"><span>Page information</span></a></li><li class=\"mw-list-item\" id=\"t-cite\"><a href=\"/w/index.php?title=Special:CiteThisPage&amp;page=Python&amp;id=1087251762&amp;wpFormIdentifier=titleform\" title=\"Information on how to cite this page\"><span>Cite this page</span></a></li><li class=\"mw-list-item\" id=\"t-wikibase\"><a accesskey=\"g\" href=\"https://www.wikidata.org/wiki/Special:EntityPage/Q747452\" title=\"Structured data on this page hosted by Wikidata [g]\"><span>Wikidata item</span></a></li></ul>\n",
       "</div>\n",
       "</nav>\n",
       "<nav aria-labelledby=\"p-coll-print_export-label\" class=\"mw-portlet mw-portlet-coll-print_export vector-menu vector-menu-portal portal\" id=\"p-coll-print_export\" role=\"navigation\">\n",
       "<h3 class=\"vector-menu-heading\" id=\"p-coll-print_export-label\">\n",
       "<span class=\"vector-menu-heading-label\">Print/export</span>\n",
       "</h3>\n",
       "<div class=\"vector-menu-content\">\n",
       "<ul class=\"vector-menu-content-list\"><li class=\"mw-list-item\" id=\"coll-download-as-rl\"><a href=\"/w/index.php?title=Special:DownloadAsPdf&amp;page=Python&amp;action=show-download-screen\" title=\"Download this page as a PDF file\"><span>Download as PDF</span></a></li><li class=\"mw-list-item\" id=\"t-print\"><a accesskey=\"p\" href=\"/w/index.php?title=Python&amp;printable=yes\" title=\"Printable version of this page [p]\"><span>Printable version</span></a></li></ul>\n",
       "</div>\n",
       "</nav>\n",
       "<nav aria-labelledby=\"p-wikibase-otherprojects-label\" class=\"mw-portlet mw-portlet-wikibase-otherprojects vector-menu vector-menu-portal portal\" id=\"p-wikibase-otherprojects\" role=\"navigation\">\n",
       "<h3 class=\"vector-menu-heading\" id=\"p-wikibase-otherprojects-label\">\n",
       "<span class=\"vector-menu-heading-label\">In other projects</span>\n",
       "</h3>\n",
       "<div class=\"vector-menu-content\">\n",
       "<ul class=\"vector-menu-content-list\"><li class=\"wb-otherproject-link wb-otherproject-commons mw-list-item\"><a href=\"https://commons.wikimedia.org/wiki/Category:Python\" hreflang=\"en\"><span>Wikimedia Commons</span></a></li></ul>\n",
       "</div>\n",
       "</nav>\n",
       "<nav aria-labelledby=\"p-lang-label\" class=\"mw-portlet mw-portlet-lang vector-menu vector-menu-portal portal\" id=\"p-lang\" role=\"navigation\">\n",
       "<h3 class=\"vector-menu-heading\" id=\"p-lang-label\">\n",
       "<span class=\"vector-menu-heading-label\">Languages</span>\n",
       "</h3>\n",
       "<div class=\"vector-menu-content\">\n",
       "<ul class=\"vector-menu-content-list\"><li class=\"interlanguage-link interwiki-af mw-list-item\"><a class=\"interlanguage-link-target\" href=\"https://af.wikipedia.org/wiki/Python\" hreflang=\"af\" lang=\"af\" title=\"Python – Afrikaans\"><span>Afrikaans</span></a></li><li class=\"interlanguage-link interwiki-als mw-list-item\"><a class=\"interlanguage-link-target\" href=\"https://als.wikipedia.org/wiki/Python\" hreflang=\"gsw\" lang=\"gsw\" title=\"Python – Alemannisch\"><span>Alemannisch</span></a></li><li class=\"interlanguage-link interwiki-ar mw-list-item\"><a class=\"interlanguage-link-target\" href=\"https://ar.wikipedia.org/wiki/%D8%A8%D8%A7%D9%8A%D8%AB%D9%88%D9%86_(%D8%AA%D9%88%D8%B6%D9%8A%D8%AD)\" hreflang=\"ar\" lang=\"ar\" title=\"بايثون (توضيح) – Arabic\"><span>العربية</span></a></li><li class=\"interlanguage-link interwiki-az mw-list-item\"><a class=\"interlanguage-link-target\" href=\"https://az.wikipedia.org/wiki/Python\" hreflang=\"az\" lang=\"az\" title=\"Python – Azerbaijani\"><span>Azərbaycanca</span></a></li><li class=\"interlanguage-link interwiki-bn mw-list-item\"><a class=\"interlanguage-link-target\" href=\"https://bn.wikipedia.org/wiki/%E0%A6%AA%E0%A6%BE%E0%A6%87%E0%A6%A5%E0%A6%A8_(%E0%A6%A6%E0%A7%8D%E0%A6%AC%E0%A7%8D%E0%A6%AF%E0%A6%B0%E0%A7%8D%E0%A6%A5%E0%A6%A4%E0%A6%BE_%E0%A6%A8%E0%A6%BF%E0%A6%B0%E0%A6%B8%E0%A6%A8)\" hreflang=\"bn\" lang=\"bn\" title=\"পাইথন (দ্ব্যর্থতা নিরসন) – Bangla\"><span>বাংলা</span></a></li><li class=\"interlanguage-link interwiki-be mw-list-item\"><a class=\"interlanguage-link-target\" href=\"https://be.wikipedia.org/wiki/Python\" hreflang=\"be\" lang=\"be\" title=\"Python – Belarusian\"><span>Беларуская</span></a></li><li class=\"interlanguage-link interwiki-bg mw-list-item\"><a class=\"interlanguage-link-target\" href=\"https://bg.wikipedia.org/wiki/%D0%9F%D0%B8%D1%82%D0%BE%D0%BD_(%D0%BF%D0%BE%D1%8F%D1%81%D0%BD%D0%B5%D0%BD%D0%B8%D0%B5)\" hreflang=\"bg\" lang=\"bg\" title=\"Питон (пояснение) – Bulgarian\"><span>Български</span></a></li><li class=\"interlanguage-link interwiki-cs mw-list-item\"><a class=\"interlanguage-link-target\" href=\"https://cs.wikipedia.org/wiki/Python_(rozcestn%C3%ADk)\" hreflang=\"cs\" lang=\"cs\" title=\"Python (rozcestník) – Czech\"><span>Čeština</span></a></li><li class=\"interlanguage-link interwiki-da mw-list-item\"><a class=\"interlanguage-link-target\" href=\"https://da.wikipedia.org/wiki/Python\" hreflang=\"da\" lang=\"da\" title=\"Python – Danish\"><span>Dansk</span></a></li><li class=\"interlanguage-link interwiki-de mw-list-item\"><a class=\"interlanguage-link-target\" href=\"https://de.wikipedia.org/wiki/Python\" hreflang=\"de\" lang=\"de\" title=\"Python – German\"><span>Deutsch</span></a></li><li class=\"interlanguage-link interwiki-eo mw-list-item\"><a class=\"interlanguage-link-target\" href=\"https://eo.wikipedia.org/wiki/Pitono_(apartigilo)\" hreflang=\"eo\" lang=\"eo\" title=\"Pitono (apartigilo) – Esperanto\"><span>Esperanto</span></a></li><li class=\"interlanguage-link interwiki-eu mw-list-item\"><a class=\"interlanguage-link-target\" href=\"https://eu.wikipedia.org/wiki/Python_(argipena)\" hreflang=\"eu\" lang=\"eu\" title=\"Python (argipena) – Basque\"><span>Euskara</span></a></li><li class=\"interlanguage-link interwiki-fa mw-list-item\"><a class=\"interlanguage-link-target\" href=\"https://fa.wikipedia.org/wiki/%D9%BE%D8%A7%DB%8C%D8%AA%D9%88%D9%86\" hreflang=\"fa\" lang=\"fa\" title=\"پایتون – Persian\"><span>فارسی</span></a></li><li class=\"interlanguage-link interwiki-fr mw-list-item\"><a class=\"interlanguage-link-target\" href=\"https://fr.wikipedia.org/wiki/Python\" hreflang=\"fr\" lang=\"fr\" title=\"Python – French\"><span>Français</span></a></li><li class=\"interlanguage-link interwiki-ko mw-list-item\"><a class=\"interlanguage-link-target\" href=\"https://ko.wikipedia.org/wiki/%ED%8C%8C%EC%9D%B4%EC%84%A0\" hreflang=\"ko\" lang=\"ko\" title=\"파이선 – Korean\"><span>한국어</span></a></li><li class=\"interlanguage-link interwiki-hr mw-list-item\"><a class=\"interlanguage-link-target\" href=\"https://hr.wikipedia.org/wiki/Python_(razdvojba)\" hreflang=\"hr\" lang=\"hr\" title=\"Python (razdvojba) – Croatian\"><span>Hrvatski</span></a></li><li class=\"interlanguage-link interwiki-io mw-list-item\"><a class=\"interlanguage-link-target\" href=\"https://io.wikipedia.org/wiki/Pitono\" hreflang=\"io\" lang=\"io\" title=\"Pitono – Ido\"><span>Ido</span></a></li><li class=\"interlanguage-link interwiki-id mw-list-item\"><a class=\"interlanguage-link-target\" href=\"https://id.wikipedia.org/wiki/Python\" hreflang=\"id\" lang=\"id\" title=\"Python – Indonesian\"><span>Bahasa Indonesia</span></a></li><li class=\"interlanguage-link interwiki-ia mw-list-item\"><a class=\"interlanguage-link-target\" href=\"https://ia.wikipedia.org/wiki/Python_(disambiguation)\" hreflang=\"ia\" lang=\"ia\" title=\"Python (disambiguation) – Interlingua\"><span>Interlingua</span></a></li><li class=\"interlanguage-link interwiki-is mw-list-item\"><a class=\"interlanguage-link-target\" href=\"https://is.wikipedia.org/wiki/Python_(a%C3%B0greining)\" hreflang=\"is\" lang=\"is\" title=\"Python (aðgreining) – Icelandic\"><span>Íslenska</span></a></li><li class=\"interlanguage-link interwiki-it mw-list-item\"><a class=\"interlanguage-link-target\" href=\"https://it.wikipedia.org/wiki/Python_(disambigua)\" hreflang=\"it\" lang=\"it\" title=\"Python (disambigua) – Italian\"><span>Italiano</span></a></li><li class=\"interlanguage-link interwiki-he mw-list-item\"><a class=\"interlanguage-link-target\" href=\"https://he.wikipedia.org/wiki/%D7%A4%D7%99%D7%AA%D7%95%D7%9F\" hreflang=\"he\" lang=\"he\" title=\"פיתון – Hebrew\"><span>עברית</span></a></li><li class=\"interlanguage-link interwiki-ka mw-list-item\"><a class=\"interlanguage-link-target\" href=\"https://ka.wikipedia.org/wiki/%E1%83%9E%E1%83%98%E1%83%97%E1%83%9D%E1%83%9C%E1%83%98_(%E1%83%9B%E1%83%A0%E1%83%90%E1%83%95%E1%83%90%E1%83%9A%E1%83%9B%E1%83%9C%E1%83%98%E1%83%A8%E1%83%95%E1%83%9C%E1%83%94%E1%83%9A%E1%83%9D%E1%83%95%E1%83%90%E1%83%9C%E1%83%98)\" hreflang=\"ka\" lang=\"ka\" title=\"პითონი (მრავალმნიშვნელოვანი) – Georgian\"><span>ქართული</span></a></li><li class=\"interlanguage-link interwiki-kg mw-list-item\"><a class=\"interlanguage-link-target\" href=\"https://kg.wikipedia.org/wiki/Mboma_(nyoka)\" hreflang=\"kg\" lang=\"kg\" title=\"Mboma (nyoka) – Kongo\"><span>Kongo</span></a></li><li class=\"interlanguage-link interwiki-la mw-list-item\"><a class=\"interlanguage-link-target\" href=\"https://la.wikipedia.org/wiki/Python_(discretiva)\" hreflang=\"la\" lang=\"la\" title=\"Python (discretiva) – Latin\"><span>Latina</span></a></li><li class=\"interlanguage-link interwiki-lb mw-list-item\"><a class=\"interlanguage-link-target\" href=\"https://lb.wikipedia.org/wiki/Python\" hreflang=\"lb\" lang=\"lb\" title=\"Python – Luxembourgish\"><span>Lëtzebuergesch</span></a></li><li class=\"interlanguage-link interwiki-hu mw-list-item\"><a class=\"interlanguage-link-target\" href=\"https://hu.wikipedia.org/wiki/Python_(egy%C3%A9rtelm%C5%B1s%C3%ADt%C5%91_lap)\" hreflang=\"hu\" lang=\"hu\" title=\"Python (egyértelműsítő lap) – Hungarian\"><span>Magyar</span></a></li><li class=\"interlanguage-link interwiki-mr mw-list-item\"><a class=\"interlanguage-link-target\" href=\"https://mr.wikipedia.org/wiki/%E0%A4%AA%E0%A4%BE%E0%A4%AF%E0%A4%A5%E0%A5%89%E0%A4%A8_(%E0%A4%86%E0%A4%9C%E0%A5%8D%E0%A4%9E%E0%A4%BE%E0%A4%B5%E0%A4%B2%E0%A5%80_%E0%A4%AD%E0%A4%BE%E0%A4%B7%E0%A4%BE)\" hreflang=\"mr\" lang=\"mr\" title=\"पायथॉन (आज्ञावली भाषा) – Marathi\"><span>मराठी</span></a></li><li class=\"interlanguage-link interwiki-nl mw-list-item\"><a class=\"interlanguage-link-target\" href=\"https://nl.wikipedia.org/wiki/Python\" hreflang=\"nl\" lang=\"nl\" title=\"Python – Dutch\"><span>Nederlands</span></a></li><li class=\"interlanguage-link interwiki-ja mw-list-item\"><a class=\"interlanguage-link-target\" href=\"https://ja.wikipedia.org/wiki/%E3%83%91%E3%82%A4%E3%82%BD%E3%83%B3\" hreflang=\"ja\" lang=\"ja\" title=\"パイソン – Japanese\"><span>日本語</span></a></li><li class=\"interlanguage-link interwiki-no mw-list-item\"><a class=\"interlanguage-link-target\" href=\"https://no.wikipedia.org/wiki/Pyton\" hreflang=\"nb\" lang=\"nb\" title=\"Pyton – Norwegian Bokmål\"><span>Norsk bokmål</span></a></li><li class=\"interlanguage-link interwiki-pl mw-list-item\"><a class=\"interlanguage-link-target\" href=\"https://pl.wikipedia.org/wiki/Pyton\" hreflang=\"pl\" lang=\"pl\" title=\"Pyton – Polish\"><span>Polski</span></a></li><li class=\"interlanguage-link interwiki-pt mw-list-item\"><a class=\"interlanguage-link-target\" href=\"https://pt.wikipedia.org/wiki/Python_(desambigua%C3%A7%C3%A3o)\" hreflang=\"pt\" lang=\"pt\" title=\"Python (desambiguação) – Portuguese\"><span>Português</span></a></li><li class=\"interlanguage-link interwiki-ru mw-list-item\"><a class=\"interlanguage-link-target\" href=\"https://ru.wikipedia.org/wiki/Python_(%D0%B7%D0%BD%D0%B0%D1%87%D0%B5%D0%BD%D0%B8%D1%8F)\" hreflang=\"ru\" lang=\"ru\" title=\"Python (значения) – Russian\"><span>Русский</span></a></li><li class=\"interlanguage-link interwiki-sk mw-list-item\"><a class=\"interlanguage-link-target\" href=\"https://sk.wikipedia.org/wiki/Python\" hreflang=\"sk\" lang=\"sk\" title=\"Python – Slovak\"><span>Slovenčina</span></a></li><li class=\"interlanguage-link interwiki-sr mw-list-item\"><a class=\"interlanguage-link-target\" href=\"https://sr.wikipedia.org/wiki/%D0%9F%D0%B8%D1%82%D0%BE%D0%BD_(%D0%B2%D0%B8%D1%88%D0%B5%D0%B7%D0%BD%D0%B0%D1%87%D0%BD%D0%B0_%D0%BE%D0%B4%D1%80%D0%B5%D0%B4%D0%BD%D0%B8%D1%86%D0%B0)\" hreflang=\"sr\" lang=\"sr\" title=\"Питон (вишезначна одредница) – Serbian\"><span>Српски / srpski</span></a></li><li class=\"interlanguage-link interwiki-sh mw-list-item\"><a class=\"interlanguage-link-target\" href=\"https://sh.wikipedia.org/wiki/Python\" hreflang=\"sh\" lang=\"sh\" title=\"Python – Serbo-Croatian\"><span>Srpskohrvatski / српскохрватски</span></a></li><li class=\"interlanguage-link interwiki-fi mw-list-item\"><a class=\"interlanguage-link-target\" href=\"https://fi.wikipedia.org/wiki/Python\" hreflang=\"fi\" lang=\"fi\" title=\"Python – Finnish\"><span>Suomi</span></a></li><li class=\"interlanguage-link interwiki-sv mw-list-item\"><a class=\"interlanguage-link-target\" href=\"https://sv.wikipedia.org/wiki/Pyton\" hreflang=\"sv\" lang=\"sv\" title=\"Pyton – Swedish\"><span>Svenska</span></a></li><li class=\"interlanguage-link interwiki-th mw-list-item\"><a class=\"interlanguage-link-target\" href=\"https://th.wikipedia.org/wiki/%E0%B9%84%E0%B8%9E%E0%B8%97%E0%B8%AD%E0%B8%99\" hreflang=\"th\" lang=\"th\" title=\"ไพทอน – Thai\"><span>ไทย</span></a></li><li class=\"interlanguage-link interwiki-tr mw-list-item\"><a class=\"interlanguage-link-target\" href=\"https://tr.wikipedia.org/wiki/Python_(anlam_ayr%C4%B1m%C4%B1)\" hreflang=\"tr\" lang=\"tr\" title=\"Python (anlam ayrımı) – Turkish\"><span>Türkçe</span></a></li><li class=\"interlanguage-link interwiki-uk mw-list-item\"><a class=\"interlanguage-link-target\" href=\"https://uk.wikipedia.org/wiki/%D0%9F%D1%96%D1%84%D0%BE%D0%BD\" hreflang=\"uk\" lang=\"uk\" title=\"Піфон – Ukrainian\"><span>Українська</span></a></li><li class=\"interlanguage-link interwiki-ur mw-list-item\"><a class=\"interlanguage-link-target\" href=\"https://ur.wikipedia.org/wiki/%D9%BE%D8%A7%D8%A6%DB%8C%D8%AA%DA%BE%D9%88%D9%86\" hreflang=\"ur\" lang=\"ur\" title=\"پائیتھون – Urdu\"><span>اردو</span></a></li><li class=\"interlanguage-link interwiki-vi mw-list-item\"><a class=\"interlanguage-link-target\" href=\"https://vi.wikipedia.org/wiki/Python\" hreflang=\"vi\" lang=\"vi\" title=\"Python – Vietnamese\"><span>Tiếng Việt</span></a></li><li class=\"interlanguage-link interwiki-zh mw-list-item\"><a class=\"interlanguage-link-target\" href=\"https://zh.wikipedia.org/wiki/Python_(%E6%B6%88%E6%AD%A7%E4%B9%89)\" hreflang=\"zh\" lang=\"zh\" title=\"Python (消歧义) – Chinese\"><span>中文</span></a></li></ul>\n",
       "<div class=\"after-portlet after-portlet-lang\"><span class=\"wb-langlinks-edit wb-langlinks-link\"><a class=\"wbc-editpage\" href=\"https://www.wikidata.org/wiki/Special:EntityPage/Q747452#sitelinks-wikipedia\" title=\"Edit interlanguage links\">Edit links</a></span></div>\n",
       "</div>\n",
       "</nav>\n",
       "</div>\n",
       "</div>\n",
       "<footer class=\"mw-footer\" id=\"footer\" role=\"contentinfo\">\n",
       "<ul id=\"footer-info\">\n",
       "<li id=\"footer-info-lastmod\"> This page was last edited on 11 May 2022, at 09:35<span class=\"anonymous-show\"> (UTC)</span>.</li>\n",
       "<li id=\"footer-info-copyright\">Text is available under the <a href=\"//en.wikipedia.org/wiki/Wikipedia:Text_of_Creative_Commons_Attribution-ShareAlike_3.0_Unported_License\" rel=\"license\">Creative Commons Attribution-ShareAlike License 3.0</a><a href=\"//creativecommons.org/licenses/by-sa/3.0/\" rel=\"license\" style=\"display:none;\"></a>;\n",
       "additional terms may apply.  By using this site, you agree to the <a href=\"//foundation.wikimedia.org/wiki/Terms_of_Use\">Terms of Use</a> and <a href=\"//foundation.wikimedia.org/wiki/Privacy_policy\">Privacy Policy</a>. Wikipedia® is a registered trademark of the <a href=\"//www.wikimediafoundation.org/\">Wikimedia Foundation, Inc.</a>, a non-profit organization.</li>\n",
       "</ul>\n",
       "<ul id=\"footer-places\">\n",
       "<li id=\"footer-places-privacy\"><a class=\"extiw\" href=\"https://foundation.wikimedia.org/wiki/Privacy_policy\" title=\"wmf:Privacy policy\">Privacy policy</a></li>\n",
       "<li id=\"footer-places-about\"><a href=\"/wiki/Wikipedia:About\" title=\"Wikipedia:About\">About Wikipedia</a></li>\n",
       "<li id=\"footer-places-disclaimer\"><a href=\"/wiki/Wikipedia:General_disclaimer\" title=\"Wikipedia:General disclaimer\">Disclaimers</a></li>\n",
       "<li id=\"footer-places-contact\"><a href=\"//en.wikipedia.org/wiki/Wikipedia:Contact_us\">Contact Wikipedia</a></li>\n",
       "<li id=\"footer-places-mobileview\"><a class=\"noprint stopMobileRedirectToggle\" href=\"//en.m.wikipedia.org/w/index.php?title=Python&amp;mobileaction=toggle_view_mobile\">Mobile view</a></li>\n",
       "<li id=\"footer-places-developers\"><a href=\"https://developer.wikimedia.org\">Developers</a></li>\n",
       "<li id=\"footer-places-statslink\"><a href=\"https://stats.wikimedia.org/#/en.wikipedia.org\">Statistics</a></li>\n",
       "<li id=\"footer-places-cookiestatement\"><a href=\"https://foundation.wikimedia.org/wiki/Cookie_statement\">Cookie statement</a></li>\n",
       "</ul>\n",
       "<ul class=\"noprint\" id=\"footer-icons\">\n",
       "<li id=\"footer-copyrightico\"><a href=\"https://wikimediafoundation.org/\"><img alt=\"Wikimedia Foundation\" height=\"31\" loading=\"lazy\" src=\"/static/images/footer/wikimedia-button.png\" srcset=\"/static/images/footer/wikimedia-button-1.5x.png 1.5x, /static/images/footer/wikimedia-button-2x.png 2x\" width=\"88\"/></a></li>\n",
       "<li id=\"footer-poweredbyico\"><a href=\"https://www.mediawiki.org/\"><img alt=\"Powered by MediaWiki\" height=\"31\" loading=\"lazy\" src=\"/static/images/footer/poweredby_mediawiki_88x31.png\" srcset=\"/static/images/footer/poweredby_mediawiki_132x47.png 1.5x, /static/images/footer/poweredby_mediawiki_176x62.png 2x\" width=\"88\"/></a></li>\n",
       "</ul>\n",
       "</footer>\n",
       "<script>(RLQ=window.RLQ||[]).push(function(){mw.config.set({\"wgPageParseReport\":{\"limitreport\":{\"cputime\":\"0.150\",\"walltime\":\"0.189\",\"ppvisitednodes\":{\"value\":1330,\"limit\":1000000},\"postexpandincludesize\":{\"value\":6487,\"limit\":2097152},\"templateargumentsize\":{\"value\":1380,\"limit\":2097152},\"expansiondepth\":{\"value\":13,\"limit\":100},\"expensivefunctioncount\":{\"value\":1,\"limit\":500},\"unstrip-depth\":{\"value\":0,\"limit\":20},\"unstrip-size\":{\"value\":931,\"limit\":5000000},\"entityaccesscount\":{\"value\":0,\"limit\":400},\"timingprofile\":[\"100.00%  154.123      1 -total\",\" 73.75%  113.660      1 Template:Disambiguation\",\" 31.25%   48.165      1 Template:Dmbox\",\" 26.04%   40.139      4 Template:Main_other\",\" 22.79%   35.126      1 Template:Disambiguation_page_short_description\",\" 21.51%   33.149      1 Template:Short_description\",\" 18.38%   28.330      1 Template:Wiktionary\",\" 16.74%   25.805      1 Template:Sister_project\",\" 13.27%   20.455      1 Template:Side_box\",\" 10.99%   16.944      1 Template:Category_handler\"]},\"scribunto\":{\"limitreport-timeusage\":{\"value\":\"0.034\",\"limit\":\"10.000\"},\"limitreport-memusage\":{\"value\":1424844,\"limit\":52428800}},\"cachereport\":{\"origin\":\"mw1381\",\"timestamp\":\"20220624081806\",\"ttl\":1814400,\"transientcontent\":false}}});});</script>\n",
       "<script type=\"application/ld+json\">{\"@context\":\"https:\\/\\/schema.org\",\"@type\":\"Article\",\"name\":\"Python\",\"url\":\"https:\\/\\/en.wikipedia.org\\/wiki\\/Python\",\"sameAs\":\"http:\\/\\/www.wikidata.org\\/entity\\/Q747452\",\"mainEntity\":\"http:\\/\\/www.wikidata.org\\/entity\\/Q747452\",\"author\":{\"@type\":\"Organization\",\"name\":\"Contributors to Wikimedia projects\"},\"publisher\":{\"@type\":\"Organization\",\"name\":\"Wikimedia Foundation, Inc.\",\"logo\":{\"@type\":\"ImageObject\",\"url\":\"https:\\/\\/www.wikimedia.org\\/static\\/images\\/wmf-hor-googpub.png\"}},\"datePublished\":\"2004-05-11T17:28:52Z\",\"dateModified\":\"2022-05-11T09:35:41Z\",\"headline\":\"Wikimedia disambiguation page\"}</script><script type=\"application/ld+json\">{\"@context\":\"https:\\/\\/schema.org\",\"@type\":\"Article\",\"name\":\"Python\",\"url\":\"https:\\/\\/en.wikipedia.org\\/wiki\\/Python\",\"sameAs\":\"http:\\/\\/www.wikidata.org\\/entity\\/Q747452\",\"mainEntity\":\"http:\\/\\/www.wikidata.org\\/entity\\/Q747452\",\"author\":{\"@type\":\"Organization\",\"name\":\"Contributors to Wikimedia projects\"},\"publisher\":{\"@type\":\"Organization\",\"name\":\"Wikimedia Foundation, Inc.\",\"logo\":{\"@type\":\"ImageObject\",\"url\":\"https:\\/\\/www.wikimedia.org\\/static\\/images\\/wmf-hor-googpub.png\"}},\"datePublished\":\"2004-05-11T17:28:52Z\",\"dateModified\":\"2022-05-11T09:35:41Z\",\"headline\":\"Wikimedia disambiguation page\"}</script>\n",
       "<script>(RLQ=window.RLQ||[]).push(function(){mw.config.set({\"wgBackendResponseTime\":227,\"wgHostname\":\"mw1364\"});});</script>\n",
       "</body>\n",
       "</html>"
      ]
     },
     "execution_count": 95,
     "metadata": {},
     "output_type": "execute_result"
    }
   ],
   "source": [
    "# your code here\n",
    "r = requests.get(url)\n",
    "r = r.content\n",
    "\n",
    "parsed_html = bs4.BeautifulSoup(r, \"html.parser\")\n",
    "parsed_html\n",
    "\n",
    "# Coger contenido principal ==> coger lista de ul ==> .remove para quitar lista que no nos interesa ==> \n",
    "# coger todos los a y quitar los dos últimos"
   ]
  },
  {
   "cell_type": "markdown",
   "metadata": {},
   "source": [
    "#### Find the number of titles that have changed in the United States Code since its last release point."
   ]
  },
  {
   "cell_type": "code",
   "execution_count": null,
   "metadata": {},
   "outputs": [],
   "source": [
    "# This is the url you will scrape in this exercise\n",
    "url = 'http://uscode.house.gov/download/download.shtml'"
   ]
  },
  {
   "cell_type": "code",
   "execution_count": 96,
   "metadata": {},
   "outputs": [],
   "source": [
    "# your code here\n",
    "\n",
    "    #divs con clase uscitem y dentro los divs con usctitle"
   ]
  },
  {
   "cell_type": "markdown",
   "metadata": {},
   "source": [
    "#### Find a Python list with the top ten FBI's Most Wanted names."
   ]
  },
  {
   "cell_type": "code",
   "execution_count": null,
   "metadata": {},
   "outputs": [],
   "source": [
    "# This is the url you will scrape in this exercise\n",
    "url = 'https://www.fbi.gov/wanted/topten'"
   ]
  },
  {
   "cell_type": "code",
   "execution_count": null,
   "metadata": {},
   "outputs": [],
   "source": [
    "# your code here"
   ]
  },
  {
   "cell_type": "markdown",
   "metadata": {},
   "source": [
    "####  Display the 20 latest earthquakes info (date, time, latitude, longitude and region name) by the EMSC as a pandas dataframe."
   ]
  },
  {
   "cell_type": "code",
   "execution_count": null,
   "metadata": {},
   "outputs": [],
   "source": [
    "# This is the url you will scrape in this exercise\n",
    "url = 'https://www.emsc-csem.org/Earthquake/'"
   ]
  },
  {
   "cell_type": "code",
   "execution_count": null,
   "metadata": {},
   "outputs": [],
   "source": [
    "# your code here"
   ]
  },
  {
   "cell_type": "markdown",
   "metadata": {},
   "source": [
    "#### Count the number of tweets by a given Twitter account.\n",
    "Ask the user for the handle (@handle) of a twitter account. You will need to include a ***try/except block*** for account names not found. \n",
    "<br>***Hint:*** the program should count the number of tweets for any provided account."
   ]
  },
  {
   "cell_type": "code",
   "execution_count": null,
   "metadata": {},
   "outputs": [],
   "source": [
    "# This is the url you will scrape in this exercise \n",
    "# You will need to add the account credentials to this url\n",
    "url = 'https://twitter.com/'"
   ]
  },
  {
   "cell_type": "code",
   "execution_count": null,
   "metadata": {},
   "outputs": [],
   "source": [
    "# your code here"
   ]
  },
  {
   "cell_type": "markdown",
   "metadata": {},
   "source": [
    "#### Number of followers of a given twitter account\n",
    "Ask the user for the handle (@handle) of a twitter account. You will need to include a ***try/except block*** for account names not found. \n",
    "<br>***Hint:*** the program should count the followers for any provided account."
   ]
  },
  {
   "cell_type": "code",
   "execution_count": null,
   "metadata": {},
   "outputs": [],
   "source": [
    "# This is the url you will scrape in this exercise \n",
    "# You will need to add the account credentials to this url\n",
    "url = 'https://twitter.com/'"
   ]
  },
  {
   "cell_type": "code",
   "execution_count": null,
   "metadata": {},
   "outputs": [],
   "source": [
    "# your code here"
   ]
  },
  {
   "cell_type": "markdown",
   "metadata": {},
   "source": [
    "#### List all language names and number of related articles in the order they appear in wikipedia.org."
   ]
  },
  {
   "cell_type": "code",
   "execution_count": null,
   "metadata": {},
   "outputs": [],
   "source": [
    "# This is the url you will scrape in this exercise\n",
    "url = 'https://www.wikipedia.org/'"
   ]
  },
  {
   "cell_type": "code",
   "execution_count": null,
   "metadata": {},
   "outputs": [],
   "source": [
    "# your code here"
   ]
  },
  {
   "cell_type": "markdown",
   "metadata": {},
   "source": [
    "#### A list with the different kind of datasets available in data.gov.uk."
   ]
  },
  {
   "cell_type": "code",
   "execution_count": null,
   "metadata": {},
   "outputs": [],
   "source": [
    "# This is the url you will scrape in this exercise\n",
    "url = 'https://data.gov.uk/'"
   ]
  },
  {
   "cell_type": "code",
   "execution_count": null,
   "metadata": {},
   "outputs": [],
   "source": [
    "# your code here"
   ]
  },
  {
   "cell_type": "markdown",
   "metadata": {},
   "source": [
    "#### Display the top 10 languages by number of native speakers stored in a pandas dataframe."
   ]
  },
  {
   "cell_type": "code",
   "execution_count": null,
   "metadata": {},
   "outputs": [],
   "source": [
    "# This is the url you will scrape in this exercise\n",
    "url = 'https://en.wikipedia.org/wiki/List_of_languages_by_number_of_native_speakers'"
   ]
  },
  {
   "cell_type": "code",
   "execution_count": null,
   "metadata": {},
   "outputs": [],
   "source": [
    "# your code here"
   ]
  },
  {
   "cell_type": "markdown",
   "metadata": {},
   "source": [
    "## Bonus\n",
    "#### Scrape a certain number of tweets of a given Twitter account."
   ]
  },
  {
   "cell_type": "code",
   "execution_count": null,
   "metadata": {},
   "outputs": [],
   "source": [
    "# This is the url you will scrape in this exercise \n",
    "# You will need to add the account credentials to this url\n",
    "url = 'https://twitter.com/'"
   ]
  },
  {
   "cell_type": "code",
   "execution_count": null,
   "metadata": {},
   "outputs": [],
   "source": [
    "# your code here"
   ]
  },
  {
   "cell_type": "markdown",
   "metadata": {},
   "source": [
    "#### Display IMDB's top 250 data (movie name, initial release, director name and stars) as a pandas dataframe."
   ]
  },
  {
   "cell_type": "code",
   "execution_count": null,
   "metadata": {},
   "outputs": [],
   "source": [
    "# This is the url you will scrape in this exercise \n",
    "url = 'https://www.imdb.com/chart/top'"
   ]
  },
  {
   "cell_type": "code",
   "execution_count": null,
   "metadata": {},
   "outputs": [],
   "source": [
    "# your code here"
   ]
  },
  {
   "cell_type": "markdown",
   "metadata": {},
   "source": [
    "#### Display the movie name, year and a brief summary of the top 10 random movies (IMDB) as a pandas dataframe."
   ]
  },
  {
   "cell_type": "code",
   "execution_count": null,
   "metadata": {},
   "outputs": [],
   "source": [
    "#This is the url you will scrape in this exercise\n",
    "url = 'http://www.imdb.com/chart/top'"
   ]
  },
  {
   "cell_type": "code",
   "execution_count": null,
   "metadata": {},
   "outputs": [],
   "source": [
    "# your code here"
   ]
  },
  {
   "cell_type": "markdown",
   "metadata": {},
   "source": [
    "#### Find the live weather report (temperature, wind speed, description and weather) of a given city."
   ]
  },
  {
   "cell_type": "code",
   "execution_count": null,
   "metadata": {},
   "outputs": [],
   "source": [
    "#https://openweathermap.org/current\n",
    "city = input('Enter the city: ')\n",
    "url = 'http://api.openweathermap.org/data/2.5/weather?'+'q='+city+'&APPID=b35975e18dc93725acb092f7272cc6b8&units=metric'"
   ]
  },
  {
   "cell_type": "code",
   "execution_count": null,
   "metadata": {},
   "outputs": [],
   "source": [
    "# your code here"
   ]
  },
  {
   "cell_type": "markdown",
   "metadata": {},
   "source": [
    "#### Find the book name, price and stock availability as a pandas dataframe."
   ]
  },
  {
   "cell_type": "code",
   "execution_count": null,
   "metadata": {},
   "outputs": [],
   "source": [
    "# This is the url you will scrape in this exercise. \n",
    "# It is a fictional bookstore created to be scraped. \n",
    "url = 'http://books.toscrape.com/'"
   ]
  },
  {
   "cell_type": "code",
   "execution_count": null,
   "metadata": {},
   "outputs": [],
   "source": [
    "# your code here"
   ]
  }
 ],
 "metadata": {
  "kernelspec": {
   "display_name": "Python [conda env:.conda-m1_ih]",
   "language": "python",
   "name": "conda-env-.conda-m1_ih-py"
  },
  "language_info": {
   "codemirror_mode": {
    "name": "ipython",
    "version": 3
   },
   "file_extension": ".py",
   "mimetype": "text/x-python",
   "name": "python",
   "nbconvert_exporter": "python",
   "pygments_lexer": "ipython3",
   "version": "3.9.12"
  }
 },
 "nbformat": 4,
 "nbformat_minor": 2
}
